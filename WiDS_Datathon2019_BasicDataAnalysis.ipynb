{
  "nbformat": 4,
  "nbformat_minor": 0,
  "metadata": {
    "colab": {
      "name": "WiDS_Datathon2019_BasicDataAnalysis.ipynb",
      "version": "0.3.2",
      "provenance": [],
      "collapsed_sections": [],
      "toc_visible": true,
      "include_colab_link": true
    },
    "kernelspec": {
      "name": "python3",
      "display_name": "Python 3"
    }
  },
  "cells": [
    {
      "cell_type": "markdown",
      "metadata": {
        "id": "view-in-github",
        "colab_type": "text"
      },
      "source": [
        "<a href=\"https://colab.research.google.com/github/nathalyAlarconT/WiDS_Datathon_2019/blob/master/WiDS_Datathon2019_BasicDataAnalysis.ipynb\" target=\"_parent\"><img src=\"https://colab.research.google.com/assets/colab-badge.svg\" alt=\"Open In Colab\"/></a>"
      ]
    },
    {
      "metadata": {
        "id": "K7NiuBK8-rsr",
        "colab_type": "code",
        "colab": {}
      },
      "cell_type": "code",
      "source": [
        "# Required libraries\n",
        "import json\n",
        "import zipfile\n",
        "import os\n",
        "import pandas as pd\n",
        "from PIL import Image\n",
        "import random"
      ],
      "execution_count": 0,
      "outputs": []
    },
    {
      "metadata": {
        "id": "bW42Hjymr05c",
        "colab_type": "code",
        "colab": {}
      },
      "cell_type": "code",
      "source": [
        "root_path = '/content'"
      ],
      "execution_count": 0,
      "outputs": []
    },
    {
      "metadata": {
        "id": "1812ZOXI8D0Q",
        "colab_type": "text"
      },
      "cell_type": "markdown",
      "source": [
        "# Descarga de Datos\n",
        "\n",
        "*Download the data*"
      ]
    },
    {
      "metadata": {
        "id": "phal2JS38NzJ",
        "colab_type": "text"
      },
      "cell_type": "markdown",
      "source": [
        "Ve a tu cuenta en kaggle, descarga tu API-Key. Abre el archivo con un editor de texto y copia el username y key. Reemplaza esos valores en la siguiente celda.\n",
        "\n",
        "*Go to your kaggle account and download your api key. Open the file with a text editor and copy the username and the key to replace them on the following cells.*\n",
        "## Configura tu Kaggle Api key\n",
        "\n",
        "A nice tutorial: https://medium.com/@opalkabert/downloading-kaggle-datasets-into-google-colab-fb9654c94235"
      ]
    },
    {
      "metadata": {
        "id": "vnW5gycqUb2Y",
        "colab_type": "text"
      },
      "cell_type": "markdown",
      "source": [
        "**¡Atención! \n",
        "Es importante que copies tu username y key en las siguiente celda para la correcta ejecución del resto del notebook. **"
      ]
    },
    {
      "metadata": {
        "id": "1Na0enU26414",
        "colab_type": "code",
        "outputId": "3ae88ecf-c7be-4945-deb2-5a78579d6fed",
        "colab": {
          "base_uri": "https://localhost:8080/",
          "height": 222
        }
      },
      "cell_type": "code",
      "source": [
        "!pip install kaggle\n",
        "!mkdir ~/.kaggle\n",
        "!touch '/root/.kaggle/kaggle.json'\n",
        "######################################################################################\n",
        "# Copy here your api key\n",
        "# api_token = {\"username\":\"username\",\"key\":\"TOKEN_HERE\"}\n",
        "api_token = {\"username\":\"*******\",\"key\":\"********************************\"}\n",
        "######################################################################################\n",
        "\n",
        "\n",
        "with open('/root/.kaggle/kaggle.json', 'w') as file:\n",
        "    json.dump(api_token, file)\n",
        "\n",
        "!chmod 600 /root/.kaggle/kaggle.json"
      ],
      "execution_count": 0,
      "outputs": [
        {
          "output_type": "stream",
          "text": [
            "Requirement already satisfied: kaggle in /usr/local/lib/python3.6/dist-packages (1.5.2)\n",
            "Requirement already satisfied: urllib3<1.23.0,>=1.15 in /usr/local/lib/python3.6/dist-packages (from kaggle) (1.22)\n",
            "Requirement already satisfied: six>=1.10 in /usr/local/lib/python3.6/dist-packages (from kaggle) (1.11.0)\n",
            "Requirement already satisfied: certifi in /usr/local/lib/python3.6/dist-packages (from kaggle) (2018.11.29)\n",
            "Requirement already satisfied: python-dateutil in /usr/local/lib/python3.6/dist-packages (from kaggle) (2.5.3)\n",
            "Requirement already satisfied: requests in /usr/local/lib/python3.6/dist-packages (from kaggle) (2.18.4)\n",
            "Requirement already satisfied: tqdm in /usr/local/lib/python3.6/dist-packages (from kaggle) (4.28.1)\n",
            "Requirement already satisfied: python-slugify in /usr/local/lib/python3.6/dist-packages (from kaggle) (2.0.1)\n",
            "Requirement already satisfied: chardet<3.1.0,>=3.0.2 in /usr/local/lib/python3.6/dist-packages (from requests->kaggle) (3.0.4)\n",
            "Requirement already satisfied: idna<2.7,>=2.5 in /usr/local/lib/python3.6/dist-packages (from requests->kaggle) (2.6)\n",
            "Requirement already satisfied: Unidecode>=0.04.16 in /usr/local/lib/python3.6/dist-packages (from python-slugify->kaggle) (1.0.23)\n"
          ],
          "name": "stdout"
        }
      ]
    },
    {
      "metadata": {
        "id": "sR7FzYwa8z7A",
        "colab_type": "text"
      },
      "cell_type": "markdown",
      "source": [
        "## Descarga el dataset\n",
        "\n",
        "Download the dataset"
      ]
    },
    {
      "metadata": {
        "id": "cmdZidGE767s",
        "colab_type": "code",
        "outputId": "2f14e631-6020-4c8a-e543-76466f83f244",
        "colab": {
          "base_uri": "https://localhost:8080/",
          "height": 269
        }
      },
      "cell_type": "code",
      "source": [
        "!kaggle competitions download -c widsdatathon2019"
      ],
      "execution_count": 0,
      "outputs": [
        {
          "output_type": "stream",
          "text": [
            "Downloading traininglabels.csv to /content\n",
            "\r  0% 0.00/354k [00:00<?, ?B/s]\n",
            "100% 354k/354k [00:00<00:00, 54.3MB/s]\n",
            "Downloading leaderboard_holdout_data.zip to /content\n",
            " 61% 27.0M/44.1M [00:00<00:00, 115MB/s]\n",
            "100% 44.1M/44.1M [00:00<00:00, 147MB/s]\n",
            "Downloading leaderboard_test_data.zip to /content\n",
            " 92% 83.0M/90.4M [00:00<00:00, 88.3MB/s]\n",
            "100% 90.4M/90.4M [00:00<00:00, 114MB/s] \n",
            "Downloading train_images.zip to /content\n",
            " 93% 296M/317M [00:01<00:00, 171MB/s]\n",
            "100% 317M/317M [00:01<00:00, 172MB/s]\n",
            "Downloading SampleSubmission.csv to /content\n",
            "  0% 0.00/134k [00:00<?, ?B/s]\n",
            "100% 134k/134k [00:00<00:00, 110MB/s]\n"
          ],
          "name": "stdout"
        }
      ]
    },
    {
      "metadata": {
        "id": "Fzcc7gAi9BMC",
        "colab_type": "text"
      },
      "cell_type": "markdown",
      "source": [
        "## Descomprime los archivos\n",
        "\n",
        "Unzip the files"
      ]
    },
    {
      "metadata": {
        "id": "Q3KQG4hs9AJu",
        "colab_type": "code",
        "colab": {}
      },
      "cell_type": "code",
      "source": [
        "for file in os.listdir():\n",
        "    if file.endswith('.zip'):\n",
        "      zip_ref = zipfile.ZipFile(file, 'r')\n",
        "      zip_ref.extractall()\n",
        "      zip_ref.close()"
      ],
      "execution_count": 0,
      "outputs": []
    },
    {
      "metadata": {
        "id": "2mKSvyCU-lH7",
        "colab_type": "text"
      },
      "cell_type": "markdown",
      "source": [
        "## Carga training labels\n",
        "\n",
        "Load training labels"
      ]
    },
    {
      "metadata": {
        "id": "e5_uejPY-0zC",
        "colab_type": "code",
        "outputId": "8495a760-8315-4cff-cd3f-da39370fab3c",
        "colab": {
          "base_uri": "https://localhost:8080/",
          "height": 212
        }
      },
      "cell_type": "code",
      "source": [
        "df_training = pd.read_csv(root_path+'/traininglabels.csv')\n",
        "tr_nsamples = len(df_training)\n",
        "print(\"Nro de registros en el dataset de training: \", tr_nsamples)\n",
        "df_training.head()"
      ],
      "execution_count": 0,
      "outputs": [
        {
          "output_type": "stream",
          "text": [
            "Nro de registros en el dataset de training:  15244\n"
          ],
          "name": "stdout"
        },
        {
          "output_type": "execute_result",
          "data": {
            "text/html": [
              "<div>\n",
              "<style scoped>\n",
              "    .dataframe tbody tr th:only-of-type {\n",
              "        vertical-align: middle;\n",
              "    }\n",
              "\n",
              "    .dataframe tbody tr th {\n",
              "        vertical-align: top;\n",
              "    }\n",
              "\n",
              "    .dataframe thead th {\n",
              "        text-align: right;\n",
              "    }\n",
              "</style>\n",
              "<table border=\"1\" class=\"dataframe\">\n",
              "  <thead>\n",
              "    <tr style=\"text-align: right;\">\n",
              "      <th></th>\n",
              "      <th>image_id</th>\n",
              "      <th>has_oilpalm</th>\n",
              "      <th>score</th>\n",
              "    </tr>\n",
              "  </thead>\n",
              "  <tbody>\n",
              "    <tr>\n",
              "      <th>0</th>\n",
              "      <td>img_000002017.jpg</td>\n",
              "      <td>0</td>\n",
              "      <td>0.7895</td>\n",
              "    </tr>\n",
              "    <tr>\n",
              "      <th>1</th>\n",
              "      <td>img_000012017.jpg</td>\n",
              "      <td>0</td>\n",
              "      <td>1.0000</td>\n",
              "    </tr>\n",
              "    <tr>\n",
              "      <th>2</th>\n",
              "      <td>img_000022017.jpg</td>\n",
              "      <td>0</td>\n",
              "      <td>1.0000</td>\n",
              "    </tr>\n",
              "    <tr>\n",
              "      <th>3</th>\n",
              "      <td>img_000072017.jpg</td>\n",
              "      <td>0</td>\n",
              "      <td>1.0000</td>\n",
              "    </tr>\n",
              "    <tr>\n",
              "      <th>4</th>\n",
              "      <td>img_000082017.jpg</td>\n",
              "      <td>0</td>\n",
              "      <td>1.0000</td>\n",
              "    </tr>\n",
              "  </tbody>\n",
              "</table>\n",
              "</div>"
            ],
            "text/plain": [
              "            image_id  has_oilpalm   score\n",
              "0  img_000002017.jpg            0  0.7895\n",
              "1  img_000012017.jpg            0  1.0000\n",
              "2  img_000022017.jpg            0  1.0000\n",
              "3  img_000072017.jpg            0  1.0000\n",
              "4  img_000082017.jpg            0  1.0000"
            ]
          },
          "metadata": {
            "tags": []
          },
          "execution_count": 6
        }
      ]
    },
    {
      "metadata": {
        "id": "mcJ5XcB2_b_s",
        "colab_type": "text"
      },
      "cell_type": "markdown",
      "source": [
        "## Carga el sample submission\n",
        "\n",
        "Load sample submission file"
      ]
    },
    {
      "metadata": {
        "id": "6v3tYbG65etR",
        "colab_type": "code",
        "outputId": "23ae03cb-cb9c-41ca-cadc-0e7ba923db6f",
        "colab": {
          "base_uri": "https://localhost:8080/",
          "height": 360
        }
      },
      "cell_type": "code",
      "source": [
        "df_sample_sub = pd.read_csv(root_path+'/SampleSubmission.csv')\n",
        "print(\"Sample rows\", len(df_sample_sub))\n",
        "df_sample_sub.head(10)"
      ],
      "execution_count": 0,
      "outputs": [
        {
          "output_type": "stream",
          "text": [
            "Sample rows 6534\n"
          ],
          "name": "stdout"
        },
        {
          "output_type": "execute_result",
          "data": {
            "text/html": [
              "<div>\n",
              "<style scoped>\n",
              "    .dataframe tbody tr th:only-of-type {\n",
              "        vertical-align: middle;\n",
              "    }\n",
              "\n",
              "    .dataframe tbody tr th {\n",
              "        vertical-align: top;\n",
              "    }\n",
              "\n",
              "    .dataframe thead th {\n",
              "        text-align: right;\n",
              "    }\n",
              "</style>\n",
              "<table border=\"1\" class=\"dataframe\">\n",
              "  <thead>\n",
              "    <tr style=\"text-align: right;\">\n",
              "      <th></th>\n",
              "      <th>image_id</th>\n",
              "      <th>has_oilpalm</th>\n",
              "    </tr>\n",
              "  </thead>\n",
              "  <tbody>\n",
              "    <tr>\n",
              "      <th>0</th>\n",
              "      <td>img_000012018.jpg</td>\n",
              "      <td>1</td>\n",
              "    </tr>\n",
              "    <tr>\n",
              "      <th>1</th>\n",
              "      <td>img_000022018.jpg</td>\n",
              "      <td>1</td>\n",
              "    </tr>\n",
              "    <tr>\n",
              "      <th>2</th>\n",
              "      <td>img_000032017.jpg</td>\n",
              "      <td>1</td>\n",
              "    </tr>\n",
              "    <tr>\n",
              "      <th>3</th>\n",
              "      <td>img_000042017.jpg</td>\n",
              "      <td>1</td>\n",
              "    </tr>\n",
              "    <tr>\n",
              "      <th>4</th>\n",
              "      <td>img_000052017.jpg</td>\n",
              "      <td>1</td>\n",
              "    </tr>\n",
              "    <tr>\n",
              "      <th>5</th>\n",
              "      <td>img_000062017.jpg</td>\n",
              "      <td>1</td>\n",
              "    </tr>\n",
              "    <tr>\n",
              "      <th>6</th>\n",
              "      <td>img_000062018.jpg</td>\n",
              "      <td>1</td>\n",
              "    </tr>\n",
              "    <tr>\n",
              "      <th>7</th>\n",
              "      <td>img_000122017.jpg</td>\n",
              "      <td>1</td>\n",
              "    </tr>\n",
              "    <tr>\n",
              "      <th>8</th>\n",
              "      <td>img_000132018.jpg</td>\n",
              "      <td>1</td>\n",
              "    </tr>\n",
              "    <tr>\n",
              "      <th>9</th>\n",
              "      <td>img_000142018.jpg</td>\n",
              "      <td>1</td>\n",
              "    </tr>\n",
              "  </tbody>\n",
              "</table>\n",
              "</div>"
            ],
            "text/plain": [
              "            image_id  has_oilpalm\n",
              "0  img_000012018.jpg            1\n",
              "1  img_000022018.jpg            1\n",
              "2  img_000032017.jpg            1\n",
              "3  img_000042017.jpg            1\n",
              "4  img_000052017.jpg            1\n",
              "5  img_000062017.jpg            1\n",
              "6  img_000062018.jpg            1\n",
              "7  img_000122017.jpg            1\n",
              "8  img_000132018.jpg            1\n",
              "9  img_000142018.jpg            1"
            ]
          },
          "metadata": {
            "tags": []
          },
          "execution_count": 7
        }
      ]
    },
    {
      "metadata": {
        "id": "H6KOMbRqn4ho",
        "colab_type": "text"
      },
      "cell_type": "markdown",
      "source": [
        "## Test Data\n",
        "\n",
        "Tenemos imágenes en la carpeta de test del dataset leaderboard_test_data"
      ]
    },
    {
      "metadata": {
        "id": "RRFEXk3unlo5",
        "colab_type": "code",
        "outputId": "3ac20656-4720-4d2c-9279-284cf05e54ea",
        "colab": {
          "base_uri": "https://localhost:8080/",
          "height": 202
        }
      },
      "cell_type": "code",
      "source": [
        "path_test_data = root_path+'/leaderboard_test_data/'\n",
        "test_files = os.listdir(path_test_data)\n",
        "print (\"Test samples qty: \", len(test_files))\n",
        "\n",
        "test_files[0:10]\n"
      ],
      "execution_count": 0,
      "outputs": [
        {
          "output_type": "stream",
          "text": [
            "Test samples qty:  4356\n"
          ],
          "name": "stdout"
        },
        {
          "output_type": "execute_result",
          "data": {
            "text/plain": [
              "['img_038432018.jpg',\n",
              " 'img_107282018.jpg',\n",
              " 'img_074172018.jpg',\n",
              " 'img_027482017.jpg',\n",
              " 'img_067812017.jpg',\n",
              " 'img_017352017.jpg',\n",
              " 'img_082792017.jpg',\n",
              " 'img_010732017.jpg',\n",
              " 'img_043072018.jpg',\n",
              " 'img_011052017.jpg']"
            ]
          },
          "metadata": {
            "tags": []
          },
          "execution_count": 8
        }
      ]
    },
    {
      "metadata": {
        "id": "SrBhtYMM_7Dh",
        "colab_type": "text"
      },
      "cell_type": "markdown",
      "source": [
        "# Análisis básico de datos\n",
        "\n",
        "Basic Data Analysis"
      ]
    },
    {
      "metadata": {
        "id": "hkGjW-dz_z-N",
        "colab_type": "code",
        "outputId": "9aa95fe8-b6ad-42ce-953c-0fee29d1f4bc",
        "colab": {
          "base_uri": "https://localhost:8080/",
          "height": 284
        }
      },
      "cell_type": "code",
      "source": [
        "df_training.describe()"
      ],
      "execution_count": 0,
      "outputs": [
        {
          "output_type": "execute_result",
          "data": {
            "text/html": [
              "<div>\n",
              "<style scoped>\n",
              "    .dataframe tbody tr th:only-of-type {\n",
              "        vertical-align: middle;\n",
              "    }\n",
              "\n",
              "    .dataframe tbody tr th {\n",
              "        vertical-align: top;\n",
              "    }\n",
              "\n",
              "    .dataframe thead th {\n",
              "        text-align: right;\n",
              "    }\n",
              "</style>\n",
              "<table border=\"1\" class=\"dataframe\">\n",
              "  <thead>\n",
              "    <tr style=\"text-align: right;\">\n",
              "      <th></th>\n",
              "      <th>has_oilpalm</th>\n",
              "      <th>score</th>\n",
              "    </tr>\n",
              "  </thead>\n",
              "  <tbody>\n",
              "    <tr>\n",
              "      <th>count</th>\n",
              "      <td>15244.000000</td>\n",
              "      <td>15244.000000</td>\n",
              "    </tr>\n",
              "    <tr>\n",
              "      <th>mean</th>\n",
              "      <td>0.061795</td>\n",
              "      <td>0.955769</td>\n",
              "    </tr>\n",
              "    <tr>\n",
              "      <th>std</th>\n",
              "      <td>0.240790</td>\n",
              "      <td>0.109367</td>\n",
              "    </tr>\n",
              "    <tr>\n",
              "      <th>min</th>\n",
              "      <td>0.000000</td>\n",
              "      <td>0.388700</td>\n",
              "    </tr>\n",
              "    <tr>\n",
              "      <th>25%</th>\n",
              "      <td>0.000000</td>\n",
              "      <td>1.000000</td>\n",
              "    </tr>\n",
              "    <tr>\n",
              "      <th>50%</th>\n",
              "      <td>0.000000</td>\n",
              "      <td>1.000000</td>\n",
              "    </tr>\n",
              "    <tr>\n",
              "      <th>75%</th>\n",
              "      <td>0.000000</td>\n",
              "      <td>1.000000</td>\n",
              "    </tr>\n",
              "    <tr>\n",
              "      <th>max</th>\n",
              "      <td>1.000000</td>\n",
              "      <td>1.000000</td>\n",
              "    </tr>\n",
              "  </tbody>\n",
              "</table>\n",
              "</div>"
            ],
            "text/plain": [
              "        has_oilpalm         score\n",
              "count  15244.000000  15244.000000\n",
              "mean       0.061795      0.955769\n",
              "std        0.240790      0.109367\n",
              "min        0.000000      0.388700\n",
              "25%        0.000000      1.000000\n",
              "50%        0.000000      1.000000\n",
              "75%        0.000000      1.000000\n",
              "max        1.000000      1.000000"
            ]
          },
          "metadata": {
            "tags": []
          },
          "execution_count": 10
        }
      ]
    },
    {
      "metadata": {
        "id": "c1WqG29UALKD",
        "colab_type": "code",
        "outputId": "59b6887d-21f5-4e79-ab9e-6a6eddafb89d",
        "colab": {
          "base_uri": "https://localhost:8080/",
          "height": 498
        }
      },
      "cell_type": "code",
      "source": [
        "print(\"Unique values\")\n",
        "print (df_training['has_oilpalm'].unique())\n",
        "print(\"*\" * 60)\n",
        "print(\"Samples per class\")\n",
        "print (df_training['has_oilpalm'].value_counts())\n",
        "print(\"*\" * 60)\n",
        "df_training['has_oilpalm'].hist()"
      ],
      "execution_count": 0,
      "outputs": [
        {
          "output_type": "stream",
          "text": [
            "Unique values\n",
            "[0 1]\n",
            "************************************************************\n",
            "Samples per class\n",
            "0    14302\n",
            "1      942\n",
            "Name: has_oilpalm, dtype: int64\n",
            "************************************************************\n"
          ],
          "name": "stdout"
        },
        {
          "output_type": "execute_result",
          "data": {
            "text/plain": [
              "<matplotlib.axes._subplots.AxesSubplot at 0x7f3b3d2f8a58>"
            ]
          },
          "metadata": {
            "tags": []
          },
          "execution_count": 11
        },
        {
          "output_type": "display_data",
          "data": {
            "image/png": "[encoded data removed]",
            "text/plain": [
              "<Figure size 576x396 with 1 Axes>"
            ]
          },
          "metadata": {
            "tags": []
          }
        }
      ]
    },
    {
      "metadata": {
        "id": "GoymGBbAB0mn",
        "colab_type": "text"
      },
      "cell_type": "markdown",
      "source": [
        "*Tenemos un dataset imbalanceado *\n",
        "\n",
        "\n",
        "We have an imbalanced dataset"
      ]
    },
    {
      "metadata": {
        "id": "yUx2GmWnApGs",
        "colab_type": "code",
        "outputId": "ff47e296-0ae2-45e3-fbb5-c4d567a97ab1",
        "colab": {
          "base_uri": "https://localhost:8080/",
          "height": 364
        }
      },
      "cell_type": "code",
      "source": [
        "# print(\"Unique values\")\n",
        "# print (df_training['score'].unique())\n",
        "# print(\"*\" * 60)\n",
        "# colors = {1: 'r',  0: 'g'}\n",
        "# df_training['score'].plot(kind='hist', bins=100, color=[colors[i] for i in df_training['has_oilpalm'] ]) # [colors[i] for i in df['group']])\n",
        "df_training['score'].hist(bins=50)\n",
        "# df_training[df_training['has_oilpalm']== 0]['score'].hist(bins=50)"
      ],
      "execution_count": 0,
      "outputs": [
        {
          "output_type": "execute_result",
          "data": {
            "text/plain": [
              "<matplotlib.axes._subplots.AxesSubplot at 0x7f3b3d05a668>"
            ]
          },
          "metadata": {
            "tags": []
          },
          "execution_count": 14
        },
        {
          "output_type": "display_data",
          "data": {
            "image/png": "[encoded data removed]",
            "text/plain": [
              "<Figure size 576x396 with 1 Axes>"
            ]
          },
          "metadata": {
            "tags": []
          }
        }
      ]
    },
    {
      "metadata": {
        "id": "OoB9-aKcpD2F",
        "colab_type": "code",
        "outputId": "a78a9c64-f754-48b0-f329-4ddb0e1de31c",
        "colab": {
          "base_uri": "https://localhost:8080/",
          "height": 366
        }
      },
      "cell_type": "code",
      "source": [
        "df_training[df_training['has_oilpalm']== 1]['score'].hist(bins=50)"
      ],
      "execution_count": 0,
      "outputs": [
        {
          "output_type": "execute_result",
          "data": {
            "text/plain": [
              "<matplotlib.axes._subplots.AxesSubplot at 0x7f3b3d2f44e0>"
            ]
          },
          "metadata": {
            "tags": []
          },
          "execution_count": 15
        },
        {
          "output_type": "display_data",
          "data": {
            "image/png": "[encoded data removed]",
            "text/plain": [
              "<Figure size 576x396 with 1 Axes>"
            ]
          },
          "metadata": {
            "tags": []
          }
        }
      ]
    },
    {
      "metadata": {
        "id": "GFQG1m8cjpbW",
        "colab_type": "text"
      },
      "cell_type": "markdown",
      "source": [
        "### Visualización de ejemplos de dataset\n",
        "\n",
        "Visualizaremos un ejemplo al azar del dataset\n",
        "\n",
        "*Data set Visualization*\n",
        "Random dataset example visualization\n",
        "\n"
      ]
    },
    {
      "metadata": {
        "id": "mY2e3fvQfYsf",
        "colab_type": "code",
        "outputId": "f7574805-c800-47c9-a36a-9412c0a06d72",
        "colab": {
          "base_uri": "https://localhost:8080/",
          "height": 357
        }
      },
      "cell_type": "code",
      "source": [
        "# Visualize random samples\n",
        "n_sample = random.randint(0,(tr_nsamples - 1))  \n",
        "\n",
        "print(\"Sample id:\", n_sample)\n",
        "\n",
        "print(df_training.iloc[n_sample])\n",
        "Image.open(root_path+'/train_images/'+df_training.iloc[n_sample]['image_id'])"
      ],
      "execution_count": 0,
      "outputs": [
        {
          "output_type": "stream",
          "text": [
            "Sample id: 3612\n",
            "image_id       img_052222017.jpg\n",
            "has_oilpalm                    1\n",
            "score                          1\n",
            "Name: 3612, dtype: object\n"
          ],
          "name": "stdout"
        },
        {
          "output_type": "execute_result",
          "data": {
            "image/png": "[encoded data removed]",
            "text/plain": [
              "<PIL.JpegImagePlugin.JpegImageFile image mode=RGB size=256x256 at 0x7F3B3CD35278>"
            ]
          },
          "metadata": {
            "tags": []
          },
          "execution_count": 116
        }
      ]
    },
    {
      "metadata": {
        "id": "2y9po5AXC1o7",
        "colab_type": "code",
        "colab": {}
      },
      "cell_type": "code",
      "source": [
        "# df_training[df_training['has_oilpalm'] == 1]"
      ],
      "execution_count": 0,
      "outputs": []
    },
    {
      "metadata": {
        "id": "nvKqABiY2sfj",
        "colab_type": "text"
      },
      "cell_type": "markdown",
      "source": [
        "# Data Preparation"
      ]
    },
    {
      "metadata": {
        "id": "lqSdVHyA0rWR",
        "colab_type": "text"
      },
      "cell_type": "markdown",
      "source": [
        "### Dataset folder preparation\n",
        "Vamos a crear una carpeta por cada clase y vamos a mover las imágenes a su respectivo folder\n",
        "\n",
        "*We will create a folder per each class and we will copy the images to it's folder class*"
      ]
    },
    {
      "metadata": {
        "id": "ZDyl_gYK94kI",
        "colab_type": "code",
        "colab": {}
      },
      "cell_type": "code",
      "source": [
        "tr_path = root_path+'/training_ready'\n",
        "tr_path_train_im = root_path+'/train_images'\n",
        "\n",
        "os.makedirs(tr_path, exist_ok=True)\n",
        "\n",
        "for index, row in df_training.iterrows():\n",
        "  tr_class = row['has_oilpalm']\n",
        "  tr_image = row['image_id']\n",
        "  # Create the class folder if it doesn't exists yet.\n",
        "  os.makedirs(tr_path+'/'+str(tr_class), exist_ok=True)\n",
        "  # Copy files\n",
        "  os.system('cp '+tr_path_train_im+'/'+tr_image+' '+tr_path+'/'+str(tr_class)+'/'+tr_image)  \n",
        "  \n"
      ],
      "execution_count": 0,
      "outputs": []
    }
  ]
}